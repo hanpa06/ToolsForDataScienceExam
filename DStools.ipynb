{
 "cells": [
  {
   "cell_type": "markdown",
   "id": "b9b07b71-3bfe-4aeb-8594-b64cdf68a332",
   "metadata": {},
   "source": [
    "# Title"
   ]
  },
  {
   "cell_type": "markdown",
   "id": "69ca13ac-4ecb-4b85-97da-b4694eb66846",
   "metadata": {},
   "source": [
    "(Excercise 3) Create a markdown cell for an introduction.\n",
    "\n",
    "This notebook is output of tasks from coursera course 'Tools for Data Science'"
   ]
  },
  {
   "cell_type": "markdown",
   "id": "668123a2-1381-4f54-8bac-a62b82b455db",
   "metadata": {},
   "source": [
    "(Excercise 4) This course introduced the following languages.\n",
    "* Python\n",
    "* R\n",
    "* SQL\n",
    "* Java\n",
    "* Scala\n",
    "* C++\n",
    "* JavaScript\n",
    "* Julia"
   ]
  },
  {
   "cell_type": "markdown",
   "id": "351105df-3cbc-4e0a-8a8b-38b21a2ba8f5",
   "metadata": {},
   "source": [
    "(Excercise 5) Create a markdown cell to list data science libraries.\n",
    "* numpy (Python)\n",
    "* pandas (Python)\n",
    "* matplotlib (Python)\n",
    "* scikit-learn (Python)\n",
    "* SciPy (Python)\n",
    "* PyTorch\n",
    "* Apache-Spark\n",
    "* TensorFlow\n",
    "* ggplot (R)"
   ]
  },
  {
   "cell_type": "markdown",
   "id": "affd4a20-40a7-46a4-95e4-e39d2cc0a8eb",
   "metadata": {},
   "source": [
    "(Excercise 6) Create a markdown cell with a table of Data Science tools.\n",
    "\n",
    "|tool|Purpose|\n",
    "|----|----|\n",
    "|Jupyter Notebook|Interactive Programing Environment|\n",
    "|Jupyter Lab|System to manage Jpyter Notebook|\n",
    "|RStuido|IDE for R language|\n",
    "|GitHub|Hosting Service of Git|"
   ]
  },
  {
   "cell_type": "markdown",
   "id": "529ce829-c952-4cca-ae2b-8845d3dbee9d",
   "metadata": {},
   "source": [
    "(Excercise 7) Create a markdown cell introducing arithmetic expression examples.\n",
    "\n",
    "$$ e^{i\\theta} = \\cos\\theta + i\\sin\\theta $$"
   ]
  },
  {
   "cell_type": "code",
   "execution_count": 7,
   "id": "642c1093-15c4-4bb2-aa6f-93607a53d72e",
   "metadata": {},
   "outputs": [
    {
     "data": {
      "text/plain": [
       "11"
      ]
     },
     "execution_count": 7,
     "metadata": {},
     "output_type": "execute_result"
    }
   ],
   "source": [
    "#(Excrcise 8) Create a code cell to multiply and add numbers.\n",
    "3*3+2"
   ]
  },
  {
   "cell_type": "code",
   "execution_count": 8,
   "id": "a7e94b7c-44ab-44ae-a3fe-a9a5bb24836e",
   "metadata": {},
   "outputs": [
    {
     "data": {
      "text/plain": [
       "'6.0 hours'"
      ]
     },
     "execution_count": 8,
     "metadata": {},
     "output_type": "execute_result"
    }
   ],
   "source": [
    "#(Excrcise 9) Create a code cell to convert minutes to hours.\n",
    "def minutes2hours(minutes):\n",
    "    return f'{minutes/60} hours'\n",
    "\n",
    "minutes2hours(360)"
   ]
  },
  {
   "cell_type": "markdown",
   "id": "734658be-7be4-4af6-bca0-945578f524e4",
   "metadata": {},
   "source": [
    "(Excrcise 10) Insert a markdown cell to list Objectives. (3 pts)\n",
    "\n",
    "* Learn various tools for Data Science\n",
    "* Learn Jpyter Notebook actually\n",
    "* Pass this exam"
   ]
  },
  {
   "cell_type": "markdown",
   "id": "7b252333-1a89-4fc9-960c-111482cd6b9d",
   "metadata": {
    "tags": []
   },
   "source": [
    "(Excercise 11) Create a markdown cell to indicate the Author’s name.\n",
    "\n",
    "---\n",
    "title: \"Excercise 11\"\n",
    "author: \"Yohei Takemura\"\n",
    "---"
   ]
  }
 ],
 "metadata": {
  "kernelspec": {
   "display_name": "Python 3.8",
   "language": "python",
   "name": "python3"
  },
  "language_info": {
   "codemirror_mode": {
    "name": "ipython",
    "version": 3
   },
   "file_extension": ".py",
   "mimetype": "text/x-python",
   "name": "python",
   "nbconvert_exporter": "python",
   "pygments_lexer": "ipython3",
   "version": "3.8.12"
  }
 },
 "nbformat": 4,
 "nbformat_minor": 5
}
